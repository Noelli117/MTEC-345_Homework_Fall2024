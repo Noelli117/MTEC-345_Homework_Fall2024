{
 "cells": [
  {
   "cell_type": "code",
   "execution_count": null,
   "id": "62679b51-afbc-4b8a-bda1-c1f11e650bc4",
   "metadata": {},
   "outputs": [],
   "source": []
  }
 ],
 "metadata": {
  "kernelspec": {
   "display_name": "",
   "name": ""
  },
  "language_info": {
   "name": ""
  }
 },
 "nbformat": 4,
 "nbformat_minor": 5
}
