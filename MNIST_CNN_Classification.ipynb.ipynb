{
 "cells": [
  {
   "cell_type": "code",
   "execution_count": 1,
   "id": "62679b51-afbc-4b8a-bda1-c1f11e650bc4",
   "metadata": {},
   "outputs": [
    {
     "name": "stdout",
     "output_type": "stream",
     "text": [
      "x_train:  (48000, 28, 28)\n",
      "y_train:  (48000,)\n",
      "x_val  :  (12000, 28, 28)\n",
      "y_val  :  (12000,)\n",
      "x_test :  (10000, 28, 28)\n",
      "y_test :  (10000,)\n"
     ]
    }
   ],
   "source": [
    "import tensorflow as tf\n",
    "from sklearn.model_selection import train_test_split\n",
    "\n",
    "# Load the MNIST dataset from TensorFlow's keras datasets module\n",
    "(x_train_loaded, y_train_loaded), (x_test, y_test) = tf.keras.datasets.mnist.load_data()\n",
    "# Create validation data (20%) from the training data (80%)\n",
    "x_train, x_val, y_train, y_val = train_test_split(x_train_loaded, y_train_loaded, test_size=0.2)\n",
    "\n",
    "# Print the size of datasets\n",
    "print(\"x_train: \", x_train.shape)\n",
    "print(\"y_train: \", y_train.shape)\n",
    "print(\"x_val  : \", x_val.shape)\n",
    "print(\"y_val  : \", y_val.shape)\n",
    "print(\"x_test : \", x_test.shape)\n",
    "print(\"y_test : \", y_test.shape)"
   ]
  },
  {
   "cell_type": "markdown",
   "id": "22b8958f-a9b2-4b38-a553-6bba7592705e",
   "metadata": {},
   "source": [
    "1. What are the shapes (sizes) of `x_train`, `x_val`, and `x_test`?\n",
    "The shapes (sizes) of x_train, x_val, and x_test are:\n",
    "x_train: (48000, 28, 28)\n",
    "x_val: (12000, 28, 28)\n",
    "x_test: (10000, 28, 28)\n",
    "2. What do the shapes (sizes) of `x_train`, `x_val`, and `x_test` represent?\n",
    "The first number is the number of samples,the last two numbers (28, 28) are the pixel dimensions of each image.\n",
    "3. What are `y_train`, `x_val`, and `y_test` for?\n",
    "y_train:labels for the training set;x_val:Input data for the validation set;y_test: Labels for the test set.\n",
    "4. How would you modify the code if you wanted to use a different dataset provided by `keras.datasets`, such as `fashion_mnist`?\n",
    "'(x_train_loaded, y_train_loaded), (x_test, y_test) = tf.keras.datasets.fashion_mnist.load_data().'\n",
    "5. If the MNIST images are grayscale, what would you expect the range of pixel values to be?\n",
    "The expected range of pixel values for grayscale MNIST images is typically 0-255.\n",
    "6. Explain the significance of the 80-20 split when creating a validation set. Are there scenarios where you might choose a different split?\n",
    "The ratio can be adjusted based on dataset size and problem complexity.\n",
    "7. What kind of data does the MNIST dataset contain, and why is it commonly used in machine learning and deep learning courses?\n",
    "# I asked AI about this:\n",
    "Contains grayscale images of handwritten digits (0-9), widely used because: \n",
    "1.Manageable scale, easy to process.\n",
    "2.Simple and well-defined problem.\n",
    "3.Widely used, facilitates comparison between different algorithms.\n",
    "4.Suitable for learning introductory machine learning concepts."
   ]
  },
  {
   "cell_type": "code",
   "execution_count": null,
   "id": "7725c3c4-4120-47b6-a782-8d78b3513bd5",
   "metadata": {},
   "outputs": [],
   "source": []
  }
 ],
 "metadata": {
  "kernelspec": {
   "display_name": "Python 3 (ipykernel)",
   "language": "python",
   "name": "python3"
  },
  "language_info": {
   "codemirror_mode": {
    "name": "ipython",
    "version": 3
   },
   "file_extension": ".py",
   "mimetype": "text/x-python",
   "name": "python",
   "nbconvert_exporter": "python",
   "pygments_lexer": "ipython3",
   "version": "3.12.2"
  }
 },
 "nbformat": 4,
 "nbformat_minor": 5
}
