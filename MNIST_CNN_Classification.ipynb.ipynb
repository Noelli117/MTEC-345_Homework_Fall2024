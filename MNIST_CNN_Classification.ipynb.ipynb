{
 "cells": [
  {
   "cell_type": "code",
   "execution_count": 1,
   "id": "f5adec74-3ec6-4247-8107-5f9a1b644ff3",
   "metadata": {},
   "outputs": [
    {
     "name": "stdout",
     "output_type": "stream",
     "text": [
      "x_train:  (48000, 28, 28)\n",
      "y_train:  (48000,)\n",
      "x_val  :  (12000, 28, 28)\n",
      "y_val  :  (12000,)\n",
      "x_test :  (10000, 28, 28)\n",
      "y_test :  (10000,)\n"
     ]
    }
   ],
   "source": [
    "import tensorflow as tf\n",
    "from sklearn.model_selection import train_test_split\n",
    "\n",
    "# Load the MNIST dataset from TensorFlow's keras datasets module\n",
    "(x_train_loaded, y_train_loaded), (x_test, y_test) = tf.keras.datasets.mnist.load_data()\n",
    "# Create validation data (20%) from the training data (80%)\n",
    "x_train, x_val, y_train, y_val = train_test_split(x_train_loaded, y_train_loaded, test_size=0.2)\n",
    "\n",
    "# Print the size of datasets\n",
    "print(\"x_train: \", x_train.shape)\n",
    "print(\"y_train: \", y_train.shape)\n",
    "print(\"x_val  : \", x_val.shape)\n",
    "print(\"y_val  : \", y_val.shape)\n",
    "print(\"x_test : \", x_test.shape)\n",
    "print(\"y_test : \", y_test.shape)"
   ]
  },
  {
   "cell_type": "code",
   "execution_count": null,
   "id": "f209714e-13f1-4a91-b38a-33a50abd540d",
   "metadata": {},
   "outputs": [],
   "source": []
  }
 ],
 "metadata": {
  "kernelspec": {
   "display_name": "Python 3 (ipykernel)",
   "language": "python",
   "name": "python3"
  },
  "language_info": {
   "codemirror_mode": {
    "name": "ipython",
    "version": 3
   },
   "file_extension": ".py",
   "mimetype": "text/x-python",
   "name": "python",
   "nbconvert_exporter": "python",
   "pygments_lexer": "ipython3",
   "version": "3.12.2"
  }
 },
 "nbformat": 4,
 "nbformat_minor": 5
}
