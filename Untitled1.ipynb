{
 "cells": [
  {
   "cell_type": "code",
   "execution_count": 1,
   "id": "df1ed2cf-fb99-4113-b0c9-1fa7b75517d0",
   "metadata": {},
   "outputs": [
    {
     "name": "stdout",
     "output_type": "stream",
     "text": [
      "Downloading data from https://storage.googleapis.com/tensorflow/tf-keras-datasets/mnist.npz\n",
      "\u001b[1m11490434/11490434\u001b[0m \u001b[32m━━━━━━━━━━━━━━━━━━━━\u001b[0m\u001b[37m\u001b[0m \u001b[1m10s\u001b[0m 1us/step\n",
      "x_train:  (48000, 28, 28)\n",
      "y_train:  (48000,)\n",
      "x_val  :  (12000, 28, 28)\n",
      "y_val  :  (12000,)\n",
      "x_test :  (10000, 28, 28)\n",
      "y_test :  (10000,)\n"
     ]
    }
   ],
   "source": [
    "import tensorflow as tf\n",
    "from sklearn.model_selection import train_test_split\n",
    "\n",
    "# Load the MNIST dataset from TensorFlow's keras datasets module\n",
    "(x_train_loaded, y_train_loaded), (x_test, y_test) = tf.keras.datasets.mnist.load_data()\n",
    "# Create validation data (20%) from the training data (80%)\n",
    "x_train, x_val, y_train, y_val = train_test_split(x_train_loaded, y_train_loaded, test_size=0.2)\n",
    "\n",
    "# Print the size of datasets\n",
    "print(\"x_train: \", x_train.shape)\n",
    "print(\"y_train: \", y_train.shape)\n",
    "print(\"x_val  : \", x_val.shape)\n",
    "print(\"y_val  : \", y_val.shape)\n",
    "print(\"x_test : \", x_test.shape)\n",
    "print(\"y_test : \", y_test.shape)"
   ]
  },
  {
   "cell_type": "code",
   "execution_count": null,
   "id": "d54352d9-d351-426a-9952-79c60f12058d",
   "metadata": {},
   "outputs": [],
   "source": []
  },
  {
   "cell_type": "code",
   "execution_count": null,
   "id": "5e0fa29b-d23e-46e8-8c2a-a76514d4fcbe",
   "metadata": {},
   "outputs": [],
   "source": []
  }
 ],
 "metadata": {
  "kernelspec": {
   "display_name": "Python 3 (ipykernel)",
   "language": "python",
   "name": "python3"
  },
  "language_info": {
   "codemirror_mode": {
    "name": "ipython",
    "version": 3
   },
   "file_extension": ".py",
   "mimetype": "text/x-python",
   "name": "python",
   "nbconvert_exporter": "python",
   "pygments_lexer": "ipython3",
   "version": "3.12.2"
  }
 },
 "nbformat": 4,
 "nbformat_minor": 5
}
