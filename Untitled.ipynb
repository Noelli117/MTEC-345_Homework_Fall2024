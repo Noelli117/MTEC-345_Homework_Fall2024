{
 "cells": [
  {
   "cell_type": "code",
   "execution_count": null,
   "id": "f21049c9-ee0d-41e9-b85a-4dc0ebd80691",
   "metadata": {},
   "outputs": [],
   "source": []
  }
 ],
 "metadata": {
  "kernelspec": {
   "display_name": "",
   "name": ""
  },
  "language_info": {
   "name": ""
  }
 },
 "nbformat": 4,
 "nbformat_minor": 5
}
